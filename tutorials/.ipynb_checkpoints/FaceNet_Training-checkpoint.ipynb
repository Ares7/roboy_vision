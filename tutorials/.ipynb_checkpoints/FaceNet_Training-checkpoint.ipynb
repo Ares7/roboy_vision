{
 "cells": [
  {
   "cell_type": "code",
   "execution_count": 45,
   "metadata": {
    "collapsed": true
   },
   "outputs": [],
   "source": [
    "%matplotlib inline\n",
    "import tensorflow as tf\n",
    "import numpy as np\n",
    "import matplotlib.pyplot as plt\n",
    "import matplotlib.image as mpimg\n",
    "import cv2\n",
    "import dlib\n",
    "import os, pickle\n",
    "import re\n",
    "import signal\n",
    "import operator\n",
    "from sklearn import svm\n",
    "from sklearn import tree"
   ]
  },
  {
   "cell_type": "markdown",
   "metadata": {},
   "source": [
    "# KNN Functions"
   ]
  },
  {
   "cell_type": "markdown",
   "metadata": {},
   "source": [
    "## Euclidean distance\n",
    "Compute euclidean distance between two data points.\n",
    "\n",
    "arguments:\n",
    "* *x1*: array of length 4; data point\n",
    "* *x2*: array of length 4; data point\n",
    "\n",
    "returns:\n",
    "* *distance*:int; euclidean distance between *x1* and *x2* "
   ]
  },
  {
   "cell_type": "code",
   "execution_count": 10,
   "metadata": {
    "collapsed": true
   },
   "outputs": [],
   "source": [
    "def euclideanDistance(x1, x2):\n",
    "    distance = 0\n",
    "    for i in range(len(x1)):\n",
    "        distance += pow((x1[i] - x2[i]), 2)\n",
    "    return np.sqrt(distance)"
   ]
  },
  {
   "cell_type": "markdown",
   "metadata": {},
   "source": [
    "## Get k nearest neighbors\n",
    "For one data point xt compute all k nearest neighbors.\n",
    "\n",
    "arguments:\n",
    "* *X*: 2D array [no. of people, 128D feature vector]\n",
    "* *xt*: array of length 128; Test data point\n",
    "\n",
    "returns:\n",
    "* neighbors: list of length *k* of tuples (X_neighbor, class, distance between neighbor and xt); **this is the list of k nearest neighbors to xt**"
   ]
  },
  {
   "cell_type": "code",
   "execution_count": 11,
   "metadata": {
    "collapsed": false
   },
   "outputs": [],
   "source": [
    "def getNeighbours(X, xt, k):\n",
    "    distances = []\n",
    "    for person in range(len(X)):\n",
    "        for rep in range(len(X[person])):\n",
    "            dist = euclideanDistance(xt, X[person][rep])\n",
    "            distances.append((X[person][rep], person, dist))\n",
    "    distances.sort(key=operator.itemgetter(2))\n",
    "    neighbors = []\n",
    "    for i in range(k):\n",
    "        neighbors.append(distances[i])\n",
    "    return neighbors"
   ]
  },
  {
   "cell_type": "markdown",
   "metadata": {},
   "source": [
    "## Get neighbor response \n",
    "For the previously computed k nearest neighbors compute the actual response. I.e. give back the class of the majority of nearest neighbors.\n",
    "\n",
    "arguments:\n",
    "* neighbors\n",
    "\n",
    "returns\n",
    "* y: int; majority target"
   ]
  },
  {
   "cell_type": "code",
   "execution_count": 77,
   "metadata": {
    "collapsed": false
   },
   "outputs": [],
   "source": [
    "def getResponse(neighbors):\n",
    "    classVotes = np.zeros(len(neighbours[0]))\n",
    "    for n in neighbors:\n",
    "        response = n[-2]\n",
    "        classVotes[response] += 1\n",
    "    y = np.argmax(classVotes)\n",
    "    return y"
   ]
  },
  {
   "cell_type": "markdown",
   "metadata": {},
   "source": [
    "## SVM Functions\n",
    "\n",
    "Rearrange data to be compatible for SVM training"
   ]
  },
  {
   "cell_type": "code",
   "execution_count": 13,
   "metadata": {
    "collapsed": false
   },
   "outputs": [],
   "source": [
    "def rearrange_people_reps(people_reps):\n",
    "    all_reps = []\n",
    "    classes = []\n",
    "    for person in range(len(people_reps)):\n",
    "        for rep in range(len(people_reps[person])):\n",
    "            all_reps.append(people_reps[person][rep])\n",
    "            classes.append(person)\n",
    "    return all_reps, classes            "
   ]
  },
  {
   "cell_type": "markdown",
   "metadata": {},
   "source": [
    "Load all Representation of dataset (LFW)"
   ]
  },
  {
   "cell_type": "code",
   "execution_count": 20,
   "metadata": {
    "collapsed": false
   },
   "outputs": [],
   "source": [
    "names = np.load('models/facenet_names.npy')\n",
    "people_reps = np.load('models/facenet_reps.npy')"
   ]
  },
  {
   "cell_type": "markdown",
   "metadata": {},
   "source": [
    "Perform KNN Algorithm"
   ]
  },
  {
   "cell_type": "code",
   "execution_count": 21,
   "metadata": {
    "collapsed": true
   },
   "outputs": [],
   "source": [
    "k = 5"
   ]
  },
  {
   "cell_type": "code",
   "execution_count": 22,
   "metadata": {
    "collapsed": false
   },
   "outputs": [],
   "source": [
    "neighbours = getNeighbours(people_reps, rep, k)"
   ]
  },
  {
   "cell_type": "code",
   "execution_count": 23,
   "metadata": {
    "collapsed": false
   },
   "outputs": [
    {
     "data": {
      "text/plain": [
       "[(array([-0.17648162, -0.05423742, -0.31103042, -0.07393211,  0.07895185,\n",
       "         -0.07802037,  0.0703997 , -0.00033433, -0.05717097,  0.08714372,\n",
       "         -0.18616864, -0.07122108,  0.00142774,  0.00881001, -0.02479456,\n",
       "          0.03092149,  0.03936759,  0.05782575,  0.16308883, -0.08348874,\n",
       "         -0.03124963,  0.07851262, -0.05410242,  0.01361189,  0.0806969 ,\n",
       "          0.00636045, -0.0998204 ,  0.02402472, -0.01342605, -0.00965082,\n",
       "         -0.05937338, -0.03160588, -0.01154891,  0.03810003,  0.09349786,\n",
       "          0.14405802, -0.14292671, -0.05282754,  0.02634259, -0.12616943,\n",
       "         -0.06863064,  0.02756737,  0.11866139,  0.07295746,  0.09096067,\n",
       "          0.05873521,  0.09367727,  0.01726253,  0.05616827, -0.07611138,\n",
       "          0.06026859, -0.19700103,  0.1001321 ,  0.08069126, -0.06893849,\n",
       "         -0.01959665, -0.02286901, -0.06395379, -0.05479044, -0.16796644,\n",
       "          0.00809918,  0.01039795, -0.05893868, -0.06817872, -0.07743953,\n",
       "         -0.04152348,  0.00507475,  0.01397094, -0.05311016, -0.02751547,\n",
       "          0.05329828, -0.02297283,  0.01713826, -0.15152442,  0.06860615,\n",
       "         -0.08574948,  0.08957038, -0.07563776,  0.08699072,  0.02177279,\n",
       "         -0.07122575,  0.01942663, -0.04609508,  0.09306611,  0.06099548,\n",
       "         -0.10579018,  0.00631868,  0.09178414,  0.11160301, -0.00984009,\n",
       "         -0.11086994, -0.01929147,  0.02037274,  0.07112948, -0.06186501,\n",
       "         -0.02711495, -0.01543708,  0.05119694, -0.14855826,  0.0941476 ,\n",
       "          0.04957962,  0.16227974, -0.03540293,  0.05194939,  0.03949849,\n",
       "          0.01474661, -0.08405214, -0.0559874 ,  0.03863676,  0.05253193,\n",
       "          0.0698474 , -0.00773824,  0.00436702,  0.27750286,  0.00575912,\n",
       "          0.1273993 , -0.02757606, -0.12208001, -0.10456152,  0.19566076,\n",
       "          0.14665176,  0.04741108, -0.11560509,  0.02350944,  0.1924303 ,\n",
       "         -0.05649003,  0.07494145,  0.11650127], dtype=float32),\n",
       "  1056,\n",
       "  0.1627743102452717),\n",
       " (array([-0.19272159, -0.03895798, -0.30723372, -0.08080021,  0.07599985,\n",
       "         -0.09763409,  0.07387103,  0.01505326, -0.0541575 ,  0.06930998,\n",
       "         -0.18476126, -0.06227188,  0.01904227,  0.03896196, -0.02765099,\n",
       "          0.03105319,  0.0420123 ,  0.06710624,  0.15055537, -0.10909049,\n",
       "         -0.01440096,  0.0765092 , -0.07008377, -0.00202114,  0.07670017,\n",
       "          0.01079416, -0.10465565,  0.00256152, -0.00477154, -0.03357956,\n",
       "         -0.05952913, -0.03024387, -0.02517883,  0.03605961,  0.1108746 ,\n",
       "          0.11581438, -0.15016411, -0.0696141 ,  0.01334399, -0.12174786,\n",
       "         -0.06951203,  0.02383634,  0.10394701,  0.07124075,  0.1071406 ,\n",
       "          0.05879566,  0.09532821,  0.02389822,  0.02979135, -0.08445866,\n",
       "          0.06776397, -0.20255025,  0.11704936,  0.08719824, -0.07166891,\n",
       "         -0.02393773, -0.01664499, -0.08929072, -0.04892891, -0.14982426,\n",
       "          0.0251691 , -0.01178645, -0.07104923, -0.04658396, -0.06440857,\n",
       "         -0.03034339,  0.01369417,  0.01885772, -0.03472475, -0.02337754,\n",
       "          0.03811866, -0.02727406,  0.02641382, -0.151252  ,  0.04765756,\n",
       "         -0.09190661,  0.06869302, -0.0623209 ,  0.07109734,  0.01883297,\n",
       "         -0.07783316,  0.01261663, -0.06246606,  0.0834455 ,  0.04627936,\n",
       "         -0.12389564,  0.00919223,  0.08495319,  0.08950563,  0.00297036,\n",
       "         -0.11403644, -0.01535287,  0.03536269,  0.08663801, -0.0414491 ,\n",
       "         -0.02413049, -0.00911956,  0.04979379, -0.12615083,  0.1132217 ,\n",
       "          0.04302775,  0.17440878, -0.04292701,  0.06065303,  0.0147425 ,\n",
       "          0.02745244, -0.06660912, -0.08479419,  0.02078924,  0.05579789,\n",
       "          0.06289595,  0.01025905,  0.00836121,  0.27971289,  0.01330467,\n",
       "          0.11184393, -0.05548973, -0.14940467, -0.10521187,  0.20628923,\n",
       "          0.15854649,  0.0306048 , -0.10619411,  0.03496538,  0.16578795,\n",
       "         -0.05540661,  0.05811644,  0.11900276], dtype=float32),\n",
       "  3382,\n",
       "  0.16385252569861566),\n",
       " (array([-0.18929683, -0.03690819, -0.31870049, -0.10080215,  0.07421324,\n",
       "         -0.10458536,  0.07858498,  0.01062559, -0.06525794,  0.07511691,\n",
       "         -0.17078449, -0.05051393,  0.00913561,  0.04615732, -0.01842003,\n",
       "          0.02791998,  0.02784352,  0.05432268,  0.1526943 , -0.1213294 ,\n",
       "         -0.02219744,  0.08706845, -0.07116393,  0.01614985,  0.05795256,\n",
       "          0.01809144, -0.1018846 ,  0.02187175,  0.01305194, -0.01507895,\n",
       "         -0.05245202, -0.03565366, -0.00531423,  0.01457806,  0.11097484,\n",
       "          0.12510239, -0.13579902, -0.06320103,  0.03573002, -0.14267415,\n",
       "         -0.0470994 ,  0.01173966,  0.09681442,  0.06828389,  0.10257151,\n",
       "          0.05587518,  0.10258124,  0.02535841,  0.03213588, -0.06195674,\n",
       "          0.04346683, -0.19397001,  0.11097577,  0.10094198, -0.04335664,\n",
       "         -0.02999389, -0.03969191, -0.06815663, -0.04284085, -0.1644156 ,\n",
       "          0.04238386, -0.005751  , -0.06610697, -0.03990896, -0.07450692,\n",
       "         -0.0562482 ,  0.03211255,  0.02245411, -0.03726616, -0.04341632,\n",
       "          0.04096533, -0.02202752,  0.01105763, -0.13130221,  0.05175013,\n",
       "         -0.08366898,  0.08518098, -0.05969122,  0.05772246,  0.01921651,\n",
       "         -0.0720497 , -0.00227452, -0.08001774,  0.08610636,  0.07854486,\n",
       "         -0.11349102,  0.01827064,  0.08815454,  0.09302703,  0.01395749,\n",
       "         -0.0934847 , -0.02012509,  0.05824756,  0.06553952, -0.06664394,\n",
       "         -0.02321294, -0.01274723,  0.0728098 , -0.14717926,  0.09081429,\n",
       "          0.05343831,  0.1852112 , -0.03985278,  0.06725413,  0.01711081,\n",
       "          0.01805199, -0.07037641, -0.0721185 ,  0.03567729,  0.04789644,\n",
       "          0.06081427,  0.00661902,  0.01576305,  0.28214264,  0.00290421,\n",
       "          0.11948714, -0.03819604, -0.15525395, -0.10453646,  0.17861234,\n",
       "          0.15613838,  0.03689528, -0.1107885 ,  0.01435047,  0.17528373,\n",
       "         -0.0456815 ,  0.06797337,  0.11936157], dtype=float32),\n",
       "  5570,\n",
       "  0.16747320079728972),\n",
       " (array([-0.16979836, -0.05329406, -0.30417705, -0.07952778,  0.07138504,\n",
       "         -0.0916038 ,  0.07251576,  0.00108848, -0.04971994,  0.0986702 ,\n",
       "         -0.17545624, -0.0575771 ,  0.00313442,  0.02423469, -0.0204864 ,\n",
       "          0.0241679 ,  0.03915124,  0.04486095,  0.14595892, -0.11203317,\n",
       "         -0.02124515,  0.07083818, -0.05513657,  0.01672391,  0.07850339,\n",
       "          0.02869054, -0.09817217,  0.04111717, -0.00914659, -0.00234636,\n",
       "         -0.08248138, -0.01493068, -0.01112733,  0.02405299,  0.11586741,\n",
       "          0.14208005, -0.14070632, -0.06521917,  0.01220729, -0.14863245,\n",
       "         -0.08302011,  0.03104363,  0.10238384,  0.07160607,  0.09604182,\n",
       "          0.07110545,  0.08605421,  0.03256552,  0.04559557, -0.06874841,\n",
       "          0.07807928, -0.19262247,  0.09796277,  0.09236567, -0.06564526,\n",
       "         -0.00288773, -0.02145167, -0.07820241, -0.04123608, -0.14722528,\n",
       "          0.01102858,  0.00673772, -0.04129082, -0.06687456, -0.07554307,\n",
       "         -0.04039868,  0.01587942,  0.01161645, -0.0502981 , -0.00116621,\n",
       "          0.04316452, -0.03395111,  0.02850644, -0.17600596,  0.04210259,\n",
       "         -0.09046902,  0.0869289 , -0.06494775,  0.08321678,  0.00068612,\n",
       "         -0.07398445,  0.01025369, -0.06184885,  0.08684977,  0.06259303,\n",
       "         -0.10548835,  0.00598921,  0.08919253,  0.09922453,  0.00166541,\n",
       "         -0.10847651, -0.02083345,  0.02252766,  0.06973124, -0.0429628 ,\n",
       "         -0.01542048, -0.02021598,  0.05654354, -0.15999605,  0.09852444,\n",
       "          0.04553949,  0.16682494, -0.05267001,  0.04613323,  0.03905848,\n",
       "          0.01586278, -0.07021464, -0.09525255,  0.02254775,  0.07152823,\n",
       "          0.07962634,  0.00420617,  0.00552218,  0.28031278,  0.02070938,\n",
       "          0.11688583, -0.02699518, -0.15021594, -0.09563962,  0.19444299,\n",
       "          0.14932686,  0.03214947, -0.105236  ,  0.01262468,  0.18177031,\n",
       "         -0.0391709 ,  0.08611403,  0.10699461], dtype=float32),\n",
       "  4946,\n",
       "  0.17178698839896642),\n",
       " (array([ -1.84436366e-01,  -5.32774441e-02,  -2.77716994e-01,\n",
       "          -8.11335444e-02,   7.79698268e-02,  -1.04165800e-01,\n",
       "           1.01772554e-01,   1.53200822e-02,  -5.81693500e-02,\n",
       "           9.36098322e-02,  -1.78689882e-01,  -8.46917555e-02,\n",
       "          -2.14076955e-02,   3.33823748e-02,   1.26889795e-02,\n",
       "           2.40699165e-02,   4.91666570e-02,   5.42450026e-02,\n",
       "           1.71426654e-01,  -1.07906662e-01,  -3.25439647e-02,\n",
       "           8.11099038e-02,  -6.21219389e-02,   8.34576134e-03,\n",
       "           6.76500201e-02,   2.12902110e-02,  -9.16933045e-02,\n",
       "           4.01011594e-02,  -1.95669420e-02,  -1.58689059e-02,\n",
       "          -7.03419223e-02,  -7.92202167e-03,  -2.51576799e-04,\n",
       "           1.64826494e-02,   1.16503984e-01,   1.34343445e-01,\n",
       "          -1.41709104e-01,  -7.32275099e-02,   2.10912842e-02,\n",
       "          -1.67557210e-01,  -7.70903453e-02,   2.47949902e-02,\n",
       "           1.03770591e-01,   5.59104457e-02,   1.16524249e-01,\n",
       "           6.55812025e-02,   7.93962255e-02,   2.44021825e-02,\n",
       "           4.77607399e-02,  -5.45128062e-02,   7.56205842e-02,\n",
       "          -1.73125654e-01,   8.94608572e-02,   7.95700103e-02,\n",
       "          -6.56126589e-02,  -1.75205041e-02,  -8.78715795e-03,\n",
       "          -7.51378611e-02,  -4.40623835e-02,  -1.55225486e-01,\n",
       "           7.70854938e-04,  -9.34912544e-03,  -3.95329744e-02,\n",
       "          -3.44153456e-02,  -5.14611788e-02,  -4.36450876e-02,\n",
       "           2.25026011e-02,  -1.04082804e-02,  -4.56004888e-02,\n",
       "          -3.91831733e-02,   2.80866977e-02,  -2.23196000e-02,\n",
       "           7.42649054e-03,  -1.78533033e-01,   5.06540425e-02,\n",
       "          -9.61735547e-02,   1.03863455e-01,  -6.42711818e-02,\n",
       "           9.73437652e-02,   1.16839055e-02,  -6.06329031e-02,\n",
       "           1.75421908e-02,  -5.28259240e-02,   8.88610631e-02,\n",
       "           7.93368742e-02,  -8.31954330e-02,   3.23397033e-02,\n",
       "           8.26743469e-02,   1.16409726e-01,  -1.86270643e-02,\n",
       "          -9.46368203e-02,  -4.37616557e-02,   3.20418179e-02,\n",
       "           7.27857351e-02,  -6.47433624e-02,  -1.07653243e-02,\n",
       "          -2.53162719e-02,   5.41427471e-02,  -1.55088753e-01,\n",
       "           7.88779706e-02,   5.77221960e-02,   1.68319315e-01,\n",
       "          -4.42305468e-02,   4.99353185e-02,   1.42009016e-02,\n",
       "           2.24948581e-02,  -7.17563033e-02,  -7.30187222e-02,\n",
       "           2.90406346e-02,   8.67717490e-02,   8.05951282e-02,\n",
       "           7.11388839e-03,   1.64975375e-02,   2.73595572e-01,\n",
       "           9.80397873e-03,   1.25796124e-01,  -2.64549963e-02,\n",
       "          -1.45188332e-01,  -8.99432525e-02,   2.01013118e-01,\n",
       "           1.47937894e-01,   3.23080234e-02,  -7.98539147e-02,\n",
       "          -1.31062577e-02,   1.72192514e-01,  -6.09506294e-02,\n",
       "           9.44282785e-02,   1.24365069e-01], dtype=float32),\n",
       "  5368,\n",
       "  0.17251769018245031)]"
      ]
     },
     "execution_count": 23,
     "metadata": {},
     "output_type": "execute_result"
    }
   ],
   "source": [
    "neighbours"
   ]
  },
  {
   "cell_type": "code",
   "execution_count": 25,
   "metadata": {
    "collapsed": false
   },
   "outputs": [
    {
     "ename": "IndexError",
     "evalue": "list index out of range",
     "output_type": "error",
     "traceback": [
      "\u001b[1;31m---------------------------------------------------------------------------\u001b[0m",
      "\u001b[1;31mIndexError\u001b[0m                                Traceback (most recent call last)",
      "\u001b[1;32m<ipython-input-25-5455e38033ac>\u001b[0m in \u001b[0;36m<module>\u001b[1;34m()\u001b[0m\n\u001b[1;32m----> 1\u001b[1;33m \u001b[0moutput\u001b[0m \u001b[1;33m=\u001b[0m \u001b[0mgetResponse\u001b[0m\u001b[1;33m(\u001b[0m\u001b[0mneighbours\u001b[0m\u001b[1;33m)\u001b[0m\u001b[1;33m\u001b[0m\u001b[0m\n\u001b[0m",
      "\u001b[1;32m<ipython-input-12-12d1374dc644>\u001b[0m in \u001b[0;36mgetResponse\u001b[1;34m(neighbors)\u001b[0m\n\u001b[0;32m      5\u001b[0m     \u001b[1;32mfor\u001b[0m \u001b[0mn\u001b[0m \u001b[1;32min\u001b[0m \u001b[0mneighbors\u001b[0m\u001b[1;33m:\u001b[0m\u001b[1;33m\u001b[0m\u001b[0m\n\u001b[0;32m      6\u001b[0m         \u001b[0mresponse\u001b[0m \u001b[1;33m=\u001b[0m \u001b[0mn\u001b[0m\u001b[1;33m[\u001b[0m\u001b[1;33m-\u001b[0m\u001b[1;36m2\u001b[0m\u001b[1;33m]\u001b[0m\u001b[1;33m\u001b[0m\u001b[0m\n\u001b[1;32m----> 7\u001b[1;33m         \u001b[0mclassVotes\u001b[0m\u001b[1;33m[\u001b[0m\u001b[0mresponse\u001b[0m\u001b[1;33m]\u001b[0m \u001b[1;33m+=\u001b[0m \u001b[1;36m1\u001b[0m\u001b[1;33m\u001b[0m\u001b[0m\n\u001b[0m\u001b[0;32m      8\u001b[0m     \u001b[0my\u001b[0m \u001b[1;33m=\u001b[0m \u001b[0mnp\u001b[0m\u001b[1;33m.\u001b[0m\u001b[0margmax\u001b[0m\u001b[1;33m(\u001b[0m\u001b[0mclassVotes\u001b[0m\u001b[1;33m)\u001b[0m\u001b[1;33m\u001b[0m\u001b[0m\n\u001b[0;32m      9\u001b[0m     \u001b[1;32mif\u001b[0m \u001b[0mclassVotes\u001b[0m \u001b[1;33m==\u001b[0m \u001b[1;33m[\u001b[0m\u001b[1;36m1\u001b[0m\u001b[1;33m,\u001b[0m\u001b[1;36m1\u001b[0m\u001b[1;33m,\u001b[0m\u001b[1;36m1\u001b[0m\u001b[1;33m]\u001b[0m\u001b[1;33m:\u001b[0m\u001b[1;33m\u001b[0m\u001b[0m\n",
      "\u001b[1;31mIndexError\u001b[0m: list index out of range"
     ]
    }
   ],
   "source": [
    "output = getResponse(neighbours)"
   ]
  },
  {
   "cell_type": "code",
   "execution_count": 26,
   "metadata": {
    "collapsed": false
   },
   "outputs": [
    {
     "ename": "NameError",
     "evalue": "name 'output' is not defined",
     "output_type": "error",
     "traceback": [
      "\u001b[1;31m---------------------------------------------------------------------------\u001b[0m",
      "\u001b[1;31mNameError\u001b[0m                                 Traceback (most recent call last)",
      "\u001b[1;32m<ipython-input-26-3a611f8d2f9f>\u001b[0m in \u001b[0;36m<module>\u001b[1;34m()\u001b[0m\n\u001b[1;32m----> 1\u001b[1;33m \u001b[0mclassification\u001b[0m \u001b[1;33m=\u001b[0m \u001b[0mnames\u001b[0m\u001b[1;33m[\u001b[0m\u001b[0moutput\u001b[0m\u001b[1;33m]\u001b[0m\u001b[1;33m\u001b[0m\u001b[0m\n\u001b[0m\u001b[0;32m      2\u001b[0m \u001b[0mdistance\u001b[0m \u001b[1;33m=\u001b[0m \u001b[0mneighbours\u001b[0m\u001b[1;33m[\u001b[0m\u001b[1;36m0\u001b[0m\u001b[1;33m]\u001b[0m\u001b[1;33m[\u001b[0m\u001b[1;36m2\u001b[0m\u001b[1;33m]\u001b[0m\u001b[1;33m\u001b[0m\u001b[0m\n",
      "\u001b[1;31mNameError\u001b[0m: name 'output' is not defined"
     ]
    }
   ],
   "source": [
    "classification = names[output]\n",
    "distance = neighbours[0][2]"
   ]
  },
  {
   "cell_type": "code",
   "execution_count": 27,
   "metadata": {
    "collapsed": false
   },
   "outputs": [
    {
     "ename": "NameError",
     "evalue": "name 'classification' is not defined",
     "output_type": "error",
     "traceback": [
      "\u001b[1;31m---------------------------------------------------------------------------\u001b[0m",
      "\u001b[1;31mNameError\u001b[0m                                 Traceback (most recent call last)",
      "\u001b[1;32m<ipython-input-27-f47089f343c9>\u001b[0m in \u001b[0;36m<module>\u001b[1;34m()\u001b[0m\n\u001b[1;32m----> 1\u001b[1;33m \u001b[0mprint\u001b[0m\u001b[1;33m(\u001b[0m\u001b[0mclassification\u001b[0m\u001b[1;33m)\u001b[0m\u001b[1;33m\u001b[0m\u001b[0m\n\u001b[0m\u001b[0;32m      2\u001b[0m \u001b[0mprint\u001b[0m\u001b[1;33m(\u001b[0m\u001b[1;34m'Distance: '\u001b[0m \u001b[1;33m+\u001b[0m \u001b[0mstr\u001b[0m\u001b[1;33m(\u001b[0m\u001b[0mdistance\u001b[0m\u001b[1;33m)\u001b[0m\u001b[1;33m)\u001b[0m\u001b[1;33m\u001b[0m\u001b[0m\n",
      "\u001b[1;31mNameError\u001b[0m: name 'classification' is not defined"
     ]
    }
   ],
   "source": [
    "print(classification)\n",
    "print('Distance: ' + str(distance))"
   ]
  },
  {
   "cell_type": "markdown",
   "metadata": {},
   "source": [
    "Train and classify with SVM"
   ]
  },
  {
   "cell_type": "code",
   "execution_count": 28,
   "metadata": {
    "collapsed": true
   },
   "outputs": [],
   "source": [
    "reps, classes = rearrange_people_reps(people_reps)"
   ]
  },
  {
   "cell_type": "code",
   "execution_count": 29,
   "metadata": {
    "collapsed": false
   },
   "outputs": [],
   "source": [
    "lin_clf = svm.SVC(probability=True)"
   ]
  },
  {
   "cell_type": "code",
   "execution_count": 30,
   "metadata": {
    "collapsed": false
   },
   "outputs": [
    {
     "data": {
      "text/plain": [
       "SVC(C=1.0, cache_size=200, class_weight=None, coef0=0.0,\n",
       "  decision_function_shape=None, degree=3, gamma='auto', kernel='rbf',\n",
       "  max_iter=-1, probability=True, random_state=None, shrinking=True,\n",
       "  tol=0.001, verbose=False)"
      ]
     },
     "execution_count": 30,
     "metadata": {},
     "output_type": "execute_result"
    }
   ],
   "source": [
    "lin_clf.fit(reps, classes) "
   ]
  },
  {
   "cell_type": "code",
   "execution_count": 41,
   "metadata": {
    "collapsed": false
   },
   "outputs": [
    {
     "name": "stdout",
     "output_type": "stream",
     "text": [
      "[ 0.00015067  0.00014334  0.00015082 ...,  0.00014676  0.00015177\n",
      "  0.0001492 ]\n"
     ]
    }
   ],
   "source": [
    "probabilities = lin_clf.predict_proba(rep.reshape(1,-1))\n",
    "output = np.argmax(probabilities[0])\n",
    "print(probabilities[0])\n"
   ]
  },
  {
   "cell_type": "code",
   "execution_count": 42,
   "metadata": {
    "collapsed": false
   },
   "outputs": [],
   "source": [
    "classification = names[output]\n",
    "probability = probabilities[0][output]"
   ]
  },
  {
   "cell_type": "code",
   "execution_count": 43,
   "metadata": {
    "collapsed": false
   },
   "outputs": [
    {
     "name": "stdout",
     "output_type": "stream",
     "text": [
      "Scott_Ritter\n",
      "Probability: 0.00516922921109\n"
     ]
    }
   ],
   "source": [
    "print(classification)\n",
    "print('Probability: ' + str(probability))"
   ]
  },
  {
   "cell_type": "markdown",
   "metadata": {},
   "source": [
    "Decision Tree"
   ]
  },
  {
   "cell_type": "code",
   "execution_count": 46,
   "metadata": {
    "collapsed": false
   },
   "outputs": [],
   "source": [
    "clf = tree.DecisionTreeClassifier()\n",
    "clf = clf.fit(reps, classes)"
   ]
  },
  {
   "cell_type": "code",
   "execution_count": 51,
   "metadata": {
    "collapsed": false
   },
   "outputs": [],
   "source": [
    "probabilities = clf.predict_proba(rep.reshape(1,-1))\n",
    "output = np.argmax(probabilities[0])"
   ]
  },
  {
   "cell_type": "code",
   "execution_count": 58,
   "metadata": {
    "collapsed": false
   },
   "outputs": [],
   "source": [
    "classification = names[output]\n",
    "probability = probabilities[0][output]"
   ]
  },
  {
   "cell_type": "code",
   "execution_count": 59,
   "metadata": {
    "collapsed": false
   },
   "outputs": [
    {
     "name": "stdout",
     "output_type": "stream",
     "text": [
      "Charles_Richardson\n",
      "Probability: 1.0\n"
     ]
    }
   ],
   "source": [
    "print(classification)\n",
    "print('Probability: ' + str(probability))"
   ]
  },
  {
   "cell_type": "code",
   "execution_count": 53,
   "metadata": {
    "collapsed": true
   },
   "outputs": [],
   "source": [
    "pickle.dump( clf, open( \"models/tree.b\", \"wb\" ) )"
   ]
  },
  {
   "cell_type": "code",
   "execution_count": 54,
   "metadata": {
    "collapsed": true
   },
   "outputs": [],
   "source": [
    "t = pickle.load( open( \"models/tree.b\", \"rb\" ) )"
   ]
  },
  {
   "cell_type": "markdown",
   "metadata": {},
   "source": [
    "Own Model"
   ]
  },
  {
   "cell_type": "code",
   "execution_count": 83,
   "metadata": {
    "collapsed": false
   },
   "outputs": [],
   "source": [
    "names = np.load('models/own_names.npy')\n",
    "people_reps = np.load('models/own_reps.npy')"
   ]
  },
  {
   "cell_type": "code",
   "execution_count": 97,
   "metadata": {
    "collapsed": true
   },
   "outputs": [],
   "source": [
    "k = 3\n",
    "neighbours = getNeighbours(people_reps, rep, k)"
   ]
  },
  {
   "cell_type": "code",
   "execution_count": 98,
   "metadata": {
    "collapsed": false
   },
   "outputs": [],
   "source": [
    "output = getResponse(neighbours)"
   ]
  },
  {
   "cell_type": "code",
   "execution_count": 94,
   "metadata": {
    "collapsed": true
   },
   "outputs": [],
   "source": [
    "classification = names[1]\n",
    "distance = neighbours[0][2]"
   ]
  },
  {
   "cell_type": "code",
   "execution_count": 95,
   "metadata": {
    "collapsed": false
   },
   "outputs": [
    {
     "name": "stdout",
     "output_type": "stream",
     "text": [
      "Veronika\n",
      "Distance: 0.219962209322\n"
     ]
    }
   ],
   "source": [
    "print(classification)\n",
    "print('Distance: ' + str(distance))"
   ]
  },
  {
   "cell_type": "code",
   "execution_count": 100,
   "metadata": {
    "collapsed": true
   },
   "outputs": [],
   "source": [
    "from sklearn.decomposition import PCA\n",
    "from sklearn.discriminant_analysis import LinearDiscriminantAnalysis\n"
   ]
  },
  {
   "cell_type": "code",
   "execution_count": 105,
   "metadata": {
    "collapsed": true
   },
   "outputs": [],
   "source": [
    "X, classes = rearrange_people_reps(people_reps)\n",
    "X = np.array(X)\n",
    "classes = np.array(classes)"
   ]
  },
  {
   "cell_type": "code",
   "execution_count": 106,
   "metadata": {
    "collapsed": false
   },
   "outputs": [
    {
     "name": "stdout",
     "output_type": "stream",
     "text": [
      "(15, 128) (15,) (15, 1)\n"
     ]
    }
   ],
   "source": [
    "lda = LinearDiscriminantAnalysis(n_components=2, solver='eigen', shrinkage='auto')\n",
    "people_lda = lda.fit(X, classes).transform(X)\n",
    "print(X.shape, classes.shape, people_lda.shape)"
   ]
  },
  {
   "cell_type": "code",
   "execution_count": null,
   "metadata": {
    "collapsed": true
   },
   "outputs": [],
   "source": []
  },
  {
   "cell_type": "code",
   "execution_count": 135,
   "metadata": {
    "collapsed": false
   },
   "outputs": [
    {
     "name": "stdout",
     "output_type": "stream",
     "text": [
      "2\n",
      "[[ 0.04082369]\n",
      " [ 0.03862916]\n",
      " [ 0.04781788]\n",
      " [ 0.0345222 ]\n",
      " [ 0.0427712 ]]\n"
     ]
    },
    {
     "ename": "ValueError",
     "evalue": "array split does not result in an equal division",
     "output_type": "error",
     "traceback": [
      "\u001b[1;31m---------------------------------------------------------------------------\u001b[0m",
      "\u001b[1;31mTypeError\u001b[0m                                 Traceback (most recent call last)",
      "\u001b[1;32mC:\\Users\\Fabian\\Anaconda3\\lib\\site-packages\\numpy\\lib\\shape_base.py\u001b[0m in \u001b[0;36msplit\u001b[1;34m(ary, indices_or_sections, axis)\u001b[0m\n\u001b[0;32m    501\u001b[0m     \u001b[1;32mtry\u001b[0m\u001b[1;33m:\u001b[0m\u001b[1;33m\u001b[0m\u001b[0m\n\u001b[1;32m--> 502\u001b[1;33m         \u001b[0mlen\u001b[0m\u001b[1;33m(\u001b[0m\u001b[0mindices_or_sections\u001b[0m\u001b[1;33m)\u001b[0m\u001b[1;33m\u001b[0m\u001b[0m\n\u001b[0m\u001b[0;32m    503\u001b[0m     \u001b[1;32mexcept\u001b[0m \u001b[0mTypeError\u001b[0m\u001b[1;33m:\u001b[0m\u001b[1;33m\u001b[0m\u001b[0m\n",
      "\u001b[1;31mTypeError\u001b[0m: object of type 'int' has no len()",
      "\nDuring handling of the above exception, another exception occurred:\n",
      "\u001b[1;31mValueError\u001b[0m                                Traceback (most recent call last)",
      "\u001b[1;32m<ipython-input-135-c824eb84fa18>\u001b[0m in \u001b[0;36m<module>\u001b[1;34m()\u001b[0m\n\u001b[0;32m     16\u001b[0m     \u001b[0mprev\u001b[0m \u001b[1;33m=\u001b[0m \u001b[0mp\u001b[0m\u001b[1;33m.\u001b[0m\u001b[0mshape\u001b[0m\u001b[1;33m[\u001b[0m\u001b[1;36m0\u001b[0m\u001b[1;33m]\u001b[0m\u001b[1;33m\u001b[0m\u001b[0m\n\u001b[0;32m     17\u001b[0m     \u001b[1;31m# Split the (x, y) array into two arrays: x and y\u001b[0m\u001b[1;33m\u001b[0m\u001b[1;33m\u001b[0m\u001b[0m\n\u001b[1;32m---> 18\u001b[1;33m     \u001b[0mx\u001b[0m\u001b[1;33m,\u001b[0m \u001b[0my\u001b[0m \u001b[1;33m=\u001b[0m \u001b[0mtuple\u001b[0m\u001b[1;33m(\u001b[0m\u001b[0mnp\u001b[0m\u001b[1;33m.\u001b[0m\u001b[0msplit\u001b[0m\u001b[1;33m(\u001b[0m\u001b[0mperson_lda\u001b[0m\u001b[1;33m,\u001b[0m \u001b[1;36m2\u001b[0m\u001b[1;33m,\u001b[0m \u001b[0maxis\u001b[0m\u001b[1;33m=\u001b[0m\u001b[1;36m1\u001b[0m\u001b[1;33m)\u001b[0m\u001b[1;33m)\u001b[0m\u001b[1;33m\u001b[0m\u001b[0m\n\u001b[0m\u001b[0;32m     19\u001b[0m     \u001b[0mplots\u001b[0m\u001b[1;33m.\u001b[0m\u001b[0mappend\u001b[0m\u001b[1;33m(\u001b[0m\u001b[0mplt\u001b[0m\u001b[1;33m.\u001b[0m\u001b[0mscatter\u001b[0m\u001b[1;33m(\u001b[0m\u001b[0mx\u001b[0m\u001b[1;33m,\u001b[0m \u001b[0my\u001b[0m\u001b[1;33m,\u001b[0m \u001b[0mcolor\u001b[0m\u001b[1;33m=\u001b[0m\u001b[0mcolor\u001b[0m\u001b[1;33m)\u001b[0m\u001b[1;33m)\u001b[0m\u001b[1;33m\u001b[0m\u001b[0m\n\u001b[0;32m     20\u001b[0m     \u001b[0mplt\u001b[0m\u001b[1;33m.\u001b[0m\u001b[0mlegend\u001b[0m\u001b[1;33m(\u001b[0m\u001b[0mplots\u001b[0m\u001b[1;33m,\u001b[0m \u001b[0mnames\u001b[0m\u001b[1;33m,\u001b[0m \u001b[0mloc\u001b[0m\u001b[1;33m=\u001b[0m\u001b[1;34m'best'\u001b[0m\u001b[1;33m,\u001b[0m \u001b[0mshadow\u001b[0m\u001b[1;33m=\u001b[0m\u001b[1;32mFalse\u001b[0m\u001b[1;33m,\u001b[0m \u001b[0mscatterpoints\u001b[0m\u001b[1;33m=\u001b[0m\u001b[1;36m1\u001b[0m\u001b[1;33m)\u001b[0m\u001b[1;33m\u001b[0m\u001b[0m\n",
      "\u001b[1;32mC:\\Users\\Fabian\\Anaconda3\\lib\\site-packages\\numpy\\lib\\shape_base.py\u001b[0m in \u001b[0;36msplit\u001b[1;34m(ary, indices_or_sections, axis)\u001b[0m\n\u001b[0;32m    506\u001b[0m         \u001b[1;32mif\u001b[0m \u001b[0mN\u001b[0m \u001b[1;33m%\u001b[0m \u001b[0msections\u001b[0m\u001b[1;33m:\u001b[0m\u001b[1;33m\u001b[0m\u001b[0m\n\u001b[0;32m    507\u001b[0m             raise ValueError(\n\u001b[1;32m--> 508\u001b[1;33m                 'array split does not result in an equal division')\n\u001b[0m\u001b[0;32m    509\u001b[0m     \u001b[0mres\u001b[0m \u001b[1;33m=\u001b[0m \u001b[0marray_split\u001b[0m\u001b[1;33m(\u001b[0m\u001b[0mary\u001b[0m\u001b[1;33m,\u001b[0m \u001b[0mindices_or_sections\u001b[0m\u001b[1;33m,\u001b[0m \u001b[0maxis\u001b[0m\u001b[1;33m)\u001b[0m\u001b[1;33m\u001b[0m\u001b[0m\n\u001b[0;32m    510\u001b[0m     \u001b[1;32mreturn\u001b[0m \u001b[0mres\u001b[0m\u001b[1;33m\u001b[0m\u001b[0m\n",
      "\u001b[1;31mValueError\u001b[0m: array split does not result in an equal division"
     ]
    },
    {
     "data": {
      "image/png": "[encoded data removed]",
      "text/plain": [
       "<matplotlib.figure.Figure at 0x271b352c2b0>"
      ]
     },
     "metadata": {},
     "output_type": "display_data"
    }
   ],
   "source": [
    "import matplotlib.cm as cm\n",
    "\n",
    "plt.figure(dpi=96) # Make the chart bigger\n",
    "plt.xticks([])\n",
    "plt.yticks([])\n",
    "\n",
    "# A set of points for each person gets its own color\n",
    "colors = cm.rainbow(np.linspace(0, 1, len(names)))\n",
    "plots = []\n",
    "prev = 0\n",
    "for p, color in zip(people_reps, colors):\n",
    "    s = np.array(int(p.shape[0]/2))\n",
    "    print(s)\n",
    "    person_lda = people_lda[prev:prev+p.shape[0]]\n",
    "    print(person_lda)\n",
    "    prev = p.shape[0]\n",
    "    # Split the (x, y) array into two arrays: x and y\n",
    "    x, y = tuple(np.split(person_lda, 2, axis=1))\n",
    "    plots.append(plt.scatter(x, y, color=color))\n",
    "    plt.legend(plots, names, loc='best', shadow=False, scatterpoints=1)"
   ]
  },
  {
   "cell_type": "code",
   "execution_count": null,
   "metadata": {
    "collapsed": true
   },
   "outputs": [],
   "source": []
  }
 ],
 "metadata": {
  "celltoolbar": "Raw Cell Format",
  "kernelspec": {
   "display_name": "Python 3",
   "language": "python",
   "name": "python3"
  },
  "language_info": {
   "codemirror_mode": {
    "name": "ipython",
    "version": 3
   },
   "file_extension": ".py",
   "mimetype": "text/x-python",
   "name": "python",
   "nbconvert_exporter": "python",
   "pygments_lexer": "ipython3",
   "version": "3.5.3"
  }
 },
 "nbformat": 4,
 "nbformat_minor": 0
}
